{
 "cells": [
  {
   "cell_type": "markdown",
   "id": "ef3d00ca-c2c9-4109-9789-70296bc1d17b",
   "metadata": {
    "tags": []
   },
   "source": [
    "# Buttons notebook\n",
    "\n",
    "Notebook for testing interactive graphs of matplotlib in the jupyter enviroment.\n"
   ]
  },
  {
   "cell_type": "code",
   "execution_count": 3,
   "id": "bf326711-121e-4cee-abf1-73e945833eac",
   "metadata": {},
   "outputs": [
    {
     "data": {
      "image/png": "[encoded data removed]",
      "text/plain": [
       "<Figure size 432x288 with 1 Axes>"
      ]
     },
     "metadata": {
      "needs_background": "light"
     },
     "output_type": "display_data"
    }
   ],
   "source": [
    "import numpy as np\n",
    "import matplotlib.pyplot as plt\n",
    "from matplotlib.widgets import Button\n",
    "\n",
    "freqs = np.arange(2, 20, 3)\n",
    "\n",
    "fig, ax = plt.subplots()\n",
    "plt.subplots_adjust(bottom=0.2)\n",
    "t = np.arange(0.0, 1.0, 0.001)\n",
    "s = np.sin(2*np.pi*freqs[0]*t)\n",
    "l, = plt.plot(t, s, lw=2)\n",
    "\n",
    "#plt.show()"
   ]
  },
  {
   "cell_type": "markdown",
   "id": "8462b470-caf6-4ec7-8995-bb92de839560",
   "metadata": {},
   "source": [
    "# defining the buttons action\n",
    "\n",
    "To each matplotlib button, a callback function must be assigned. \n",
    "\n",
    "Here, the ``next`` and ``previous`` method shift the index of an array, and help to visualize the wave with\n",
    "new frequencies.\n",
    "\n",
    "For the interactive mode to function, the plotting should be put in the qt mode using `%matplotlib qt`. \n",
    "It can be put back into the inline mode by `%matplotlib inline`"
   ]
  },
  {
   "cell_type": "code",
   "execution_count": 6,
   "id": "91df7b3d-b54b-431c-a86a-fda21e72944d",
   "metadata": {},
   "outputs": [],
   "source": [
    "%matplotlib qt\n",
    "ll, = plt.plot(t, s, lw=2)\n",
    "\n",
    "class Index:\n",
    "    ind = 0\n",
    "\n",
    "    def next(self, event):\n",
    "        self.ind += 1\n",
    "        i = self.ind % len(freqs)\n",
    "        ydata = np.sin(2*np.pi*freqs[i]*t)\n",
    "        ll.set_ydata(ydata)\n",
    "        plt.draw()\n",
    "\n",
    "    def prev(self, event):\n",
    "        self.ind -= 1\n",
    "        i = self.ind % len(freqs)\n",
    "        ydata = np.sin(2*np.pi*freqs[i]*t)\n",
    "        ll.set_ydata(ydata)\n",
    "        plt.draw()\n",
    "\n",
    "callback = Index()\n",
    "axprev = plt.axes([0.7, 0.05, 0.1, 0.075])\n",
    "axnext = plt.axes([0.81, 0.05, 0.1, 0.075])\n",
    "bnext = Button(axnext, 'Next')\n",
    "bnext.on_clicked(callback.next)\n",
    "bprev = Button(axprev, 'Previous')\n",
    "bprev.on_clicked(callback.prev)\n",
    "\n",
    "plt.show()"
   ]
  },
  {
   "cell_type": "code",
   "execution_count": null,
   "id": "7ce9b9ae-3083-49e9-b24f-6892c22503cc",
   "metadata": {},
   "outputs": [],
   "source": []
  }
 ],
 "metadata": {
  "kernelspec": {
   "display_name": "Python 3 (ipykernel)",
   "language": "python",
   "name": "python3"
  },
  "language_info": {
   "codemirror_mode": {
    "name": "ipython",
    "version": 3
   },
   "file_extension": ".py",
   "mimetype": "text/x-python",
   "name": "python",
   "nbconvert_exporter": "python",
   "pygments_lexer": "ipython3",
   "version": "3.9.6"
  }
 },
 "nbformat": 4,
 "nbformat_minor": 5
}
